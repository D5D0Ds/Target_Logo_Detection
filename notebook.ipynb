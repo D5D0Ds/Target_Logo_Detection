{
 "cells": [
  {
   "cell_type": "code",
   "execution_count": 1,
   "metadata": {},
   "outputs": [],
   "source": [
    "from tensorflow.keras.preprocessing.image import ImageDataGenerator\n",
    "from tensorflow.keras.models import Sequential, load_model\n",
    "from tensorflow.keras.layers import Conv2D, MaxPooling2D, SpatialDropout2D, Flatten, Dropout, Dense\n",
    "from tensorflow.keras.preprocessing import image\n",
    "import tensorflow as tf\n",
    "import matplotlib.pyplot as plt\n",
    "import cv2\n",
    "import numpy as np\n",
    "# import Image\n",
    "# from PIL import Image\n",
    "import os"
   ]
  },
  {
   "cell_type": "code",
   "execution_count": 2,
   "metadata": {},
   "outputs": [],
   "source": [
    "train = ImageDataGenerator(rescale=1/255)\n",
    "test = ImageDataGenerator(rescale=1/255)"
   ]
  },
  {
   "cell_type": "code",
   "execution_count": 3,
   "metadata": {},
   "outputs": [
    {
     "name": "stdout",
     "output_type": "stream",
     "text": [
      "Found 41 images belonging to 2 classes.\n"
     ]
    }
   ],
   "source": [
    "\n",
    "traindataset = train.flow_from_directory('./train/', target_size=(500,500), batch_size=1, class_mode='binary', color_mode='rgb')"
   ]
  },
  {
   "cell_type": "code",
   "execution_count": 4,
   "metadata": {},
   "outputs": [
    {
     "name": "stdout",
     "output_type": "stream",
     "text": [
      "Found 48 images belonging to 2 classes.\n"
     ]
    }
   ],
   "source": [
    "testdataset = train.flow_from_directory('./test/', target_size=(500,500), batch_size=1, class_mode='binary', color_mode='rgb')"
   ]
  },
  {
   "cell_type": "code",
   "execution_count": 5,
   "metadata": {},
   "outputs": [
    {
     "name": "stderr",
     "output_type": "stream",
     "text": [
      "2022-09-15 20:15:31.030314: I tensorflow/stream_executor/cuda/cuda_gpu_executor.cc:961] could not open file to read NUMA node: /sys/bus/pci/devices/0000:01:00.0/numa_node\n",
      "Your kernel may have been built without NUMA support.\n",
      "2022-09-15 20:15:31.056226: I tensorflow/stream_executor/cuda/cuda_gpu_executor.cc:961] could not open file to read NUMA node: /sys/bus/pci/devices/0000:01:00.0/numa_node\n",
      "Your kernel may have been built without NUMA support.\n",
      "2022-09-15 20:15:31.056311: I tensorflow/stream_executor/cuda/cuda_gpu_executor.cc:961] could not open file to read NUMA node: /sys/bus/pci/devices/0000:01:00.0/numa_node\n",
      "Your kernel may have been built without NUMA support.\n",
      "2022-09-15 20:15:31.057033: I tensorflow/core/platform/cpu_feature_guard.cc:193] This TensorFlow binary is optimized with oneAPI Deep Neural Network Library (oneDNN) to use the following CPU instructions in performance-critical operations:  AVX2 FMA\n",
      "To enable them in other operations, rebuild TensorFlow with the appropriate compiler flags.\n",
      "2022-09-15 20:15:31.057881: I tensorflow/stream_executor/cuda/cuda_gpu_executor.cc:961] could not open file to read NUMA node: /sys/bus/pci/devices/0000:01:00.0/numa_node\n",
      "Your kernel may have been built without NUMA support.\n",
      "2022-09-15 20:15:31.058075: I tensorflow/stream_executor/cuda/cuda_gpu_executor.cc:961] could not open file to read NUMA node: /sys/bus/pci/devices/0000:01:00.0/numa_node\n",
      "Your kernel may have been built without NUMA support.\n",
      "2022-09-15 20:15:31.058181: I tensorflow/stream_executor/cuda/cuda_gpu_executor.cc:961] could not open file to read NUMA node: /sys/bus/pci/devices/0000:01:00.0/numa_node\n",
      "Your kernel may have been built without NUMA support.\n",
      "2022-09-15 20:15:32.005269: I tensorflow/stream_executor/cuda/cuda_gpu_executor.cc:961] could not open file to read NUMA node: /sys/bus/pci/devices/0000:01:00.0/numa_node\n",
      "Your kernel may have been built without NUMA support.\n",
      "2022-09-15 20:15:32.005420: I tensorflow/stream_executor/cuda/cuda_gpu_executor.cc:961] could not open file to read NUMA node: /sys/bus/pci/devices/0000:01:00.0/numa_node\n",
      "Your kernel may have been built without NUMA support.\n",
      "2022-09-15 20:15:32.005432: I tensorflow/core/common_runtime/gpu/gpu_device.cc:1616] Could not identify NUMA node of platform GPU id 0, defaulting to 0.  Your kernel may not have been built with NUMA support.\n",
      "2022-09-15 20:15:32.005486: I tensorflow/stream_executor/cuda/cuda_gpu_executor.cc:961] could not open file to read NUMA node: /sys/bus/pci/devices/0000:01:00.0/numa_node\n",
      "Your kernel may have been built without NUMA support.\n",
      "2022-09-15 20:15:32.005519: I tensorflow/core/common_runtime/gpu/gpu_device.cc:1532] Created device /job:localhost/replica:0/task:0/device:GPU:0 with 2103 MB memory:  -> device: 0, name: NVIDIA GeForce GTX 1650, pci bus id: 0000:01:00.0, compute capability: 7.5\n"
     ]
    }
   ],
   "source": [
    "# CNN\n",
    "model = Sequential()\n",
    "model.add(Conv2D(32, (3,3), activation='relu', input_shape=(500,500,3)))\n",
    "model.add(MaxPooling2D())\n",
    "model.add(Conv2D(64, (3,3), activation='relu'))\n",
    "model.add(MaxPooling2D())\n",
    "model.add(Conv2D(128, (3,3), activation='relu'))\n",
    "model.add(MaxPooling2D())\n",
    "model.add(Conv2D(256, (3,3), activation='relu'))\n",
    "# model.add(MaxPooling2D())\n",
    "# model.add(Conv2D(512, (3,3), activation='relu'))\n",
    "model.add(MaxPooling2D())\n",
    "model.add(Flatten())\n",
    "model.add(Dense(512, activation='relu'))\n",
    "model.add(Dense(1, activation='sigmoid'))"
   ]
  },
  {
   "cell_type": "code",
   "execution_count": 6,
   "metadata": {},
   "outputs": [],
   "source": [
    "model.compile(loss='binary_crossentropy', optimizer='adam', metrics=['accuracy'])"
   ]
  },
  {
   "cell_type": "code",
   "execution_count": 7,
   "metadata": {},
   "outputs": [
    {
     "name": "stdout",
     "output_type": "stream",
     "text": [
      "Epoch 1/10\n"
     ]
    },
    {
     "name": "stderr",
     "output_type": "stream",
     "text": [
      "2022-09-15 20:15:33.944634: I tensorflow/stream_executor/cuda/cuda_dnn.cc:384] Loaded cuDNN version 8100\n",
      "2022-09-15 20:15:34.830980: I tensorflow/core/platform/default/subprocess.cc:304] Start cannot spawn child process: No such file or directory\n",
      "2022-09-15 20:15:34.866602: I tensorflow/core/platform/default/subprocess.cc:304] Start cannot spawn child process: No such file or directory\n",
      "2022-09-15 20:15:34.866703: W tensorflow/stream_executor/gpu/asm_compiler.cc:80] Couldn't get ptxas version string: INTERNAL: Couldn't invoke ptxas --version\n",
      "2022-09-15 20:15:34.903668: I tensorflow/core/platform/default/subprocess.cc:304] Start cannot spawn child process: No such file or directory\n",
      "2022-09-15 20:15:34.903775: W tensorflow/stream_executor/gpu/redzone_allocator.cc:314] INTERNAL: Failed to launch ptxas\n",
      "Relying on driver to perform ptx compilation. \n",
      "Modify $PATH to customize ptxas location.\n",
      "This message will be only logged once.\n",
      "2022-09-15 20:15:34.948029: W tensorflow/core/common_runtime/bfc_allocator.cc:290] Allocator (GPU_0_bfc) ran out of memory trying to allocate 1.19GiB with freed_by_count=0. The caller indicates that this is not a failure, but this may mean that there could be performance gains if more memory were available.\n",
      "2022-09-15 20:15:34.948159: W tensorflow/core/common_runtime/bfc_allocator.cc:290] Allocator (GPU_0_bfc) ran out of memory trying to allocate 1.19GiB with freed_by_count=0. The caller indicates that this is not a failure, but this may mean that there could be performance gains if more memory were available.\n",
      "2022-09-15 20:15:35.506315: W tensorflow/core/common_runtime/bfc_allocator.cc:290] Allocator (GPU_0_bfc) ran out of memory trying to allocate 1.04GiB with freed_by_count=0. The caller indicates that this is not a failure, but this may mean that there could be performance gains if more memory were available.\n",
      "2022-09-15 20:15:35.506392: W tensorflow/core/common_runtime/bfc_allocator.cc:290] Allocator (GPU_0_bfc) ran out of memory trying to allocate 1.04GiB with freed_by_count=0. The caller indicates that this is not a failure, but this may mean that there could be performance gains if more memory were available.\n",
      "2022-09-15 20:15:35.535301: W tensorflow/core/common_runtime/bfc_allocator.cc:290] Allocator (GPU_0_bfc) ran out of memory trying to allocate 827.12MiB with freed_by_count=0. The caller indicates that this is not a failure, but this may mean that there could be performance gains if more memory were available.\n",
      "2022-09-15 20:15:35.535369: W tensorflow/core/common_runtime/bfc_allocator.cc:290] Allocator (GPU_0_bfc) ran out of memory trying to allocate 827.12MiB with freed_by_count=0. The caller indicates that this is not a failure, but this may mean that there could be performance gains if more memory were available.\n",
      "2022-09-15 20:15:35.561826: W tensorflow/core/common_runtime/bfc_allocator.cc:290] Allocator (GPU_0_bfc) ran out of memory trying to allocate 1.04GiB with freed_by_count=0. The caller indicates that this is not a failure, but this may mean that there could be performance gains if more memory were available.\n",
      "2022-09-15 20:15:35.561983: W tensorflow/core/common_runtime/bfc_allocator.cc:290] Allocator (GPU_0_bfc) ran out of memory trying to allocate 1.04GiB with freed_by_count=0. The caller indicates that this is not a failure, but this may mean that there could be performance gains if more memory were available.\n",
      "2022-09-15 20:15:35.590422: W tensorflow/core/common_runtime/bfc_allocator.cc:290] Allocator (GPU_0_bfc) ran out of memory trying to allocate 422.55MiB with freed_by_count=0. The caller indicates that this is not a failure, but this may mean that there could be performance gains if more memory were available.\n",
      "2022-09-15 20:15:35.590488: W tensorflow/core/common_runtime/bfc_allocator.cc:290] Allocator (GPU_0_bfc) ran out of memory trying to allocate 422.55MiB with freed_by_count=0. The caller indicates that this is not a failure, but this may mean that there could be performance gains if more memory were available.\n"
     ]
    },
    {
     "name": "stdout",
     "output_type": "stream",
     "text": [
      "22/41 [===============>..............] - ETA: 1s - loss: 11.6257 - accuracy: 0.5000"
     ]
    },
    {
     "name": "stderr",
     "output_type": "stream",
     "text": [
      "/home/d5d0ds/miniconda3/envs/main/lib/python3.9/site-packages/PIL/Image.py:962: UserWarning: Palette images with Transparency expressed in bytes should be converted to RGBA images\n",
      "  warnings.warn(\n"
     ]
    },
    {
     "name": "stdout",
     "output_type": "stream",
     "text": [
      "41/41 [==============================] - 8s 106ms/step - loss: 6.5493 - accuracy: 0.5366 - val_loss: 0.6583 - val_accuracy: 0.5208\n",
      "Epoch 2/10\n",
      "41/41 [==============================] - 4s 100ms/step - loss: 1.0687 - accuracy: 0.6585 - val_loss: 0.6540 - val_accuracy: 0.5833\n",
      "Epoch 3/10\n",
      "41/41 [==============================] - 4s 100ms/step - loss: 0.6863 - accuracy: 0.6341 - val_loss: 0.6998 - val_accuracy: 0.4167\n",
      "Epoch 4/10\n",
      "41/41 [==============================] - 4s 100ms/step - loss: 0.6489 - accuracy: 0.6829 - val_loss: 0.6526 - val_accuracy: 0.6042\n",
      "Epoch 5/10\n",
      "41/41 [==============================] - 4s 99ms/step - loss: 0.8492 - accuracy: 0.7561 - val_loss: 0.7224 - val_accuracy: 0.5833\n",
      "Epoch 6/10\n",
      "41/41 [==============================] - 4s 99ms/step - loss: 1.9119 - accuracy: 0.7073 - val_loss: 0.7216 - val_accuracy: 0.4167\n",
      "Epoch 7/10\n",
      "41/41 [==============================] - 4s 101ms/step - loss: 0.5840 - accuracy: 0.6341 - val_loss: 0.7481 - val_accuracy: 0.6042\n",
      "Epoch 8/10\n",
      "41/41 [==============================] - 4s 100ms/step - loss: 0.5573 - accuracy: 0.8049 - val_loss: 0.6794 - val_accuracy: 0.5833\n",
      "Epoch 9/10\n",
      "41/41 [==============================] - 4s 102ms/step - loss: 0.5735 - accuracy: 0.8537 - val_loss: 1.4587 - val_accuracy: 0.4792\n",
      "Epoch 10/10\n",
      "41/41 [==============================] - 4s 100ms/step - loss: 0.2598 - accuracy: 0.9268 - val_loss: 2.6126 - val_accuracy: 0.4583\n"
     ]
    }
   ],
   "source": [
    "model_saved = model.fit(traindataset, epochs=10, validation_data=testdataset)"
   ]
  },
  {
   "cell_type": "code",
   "execution_count": 8,
   "metadata": {},
   "outputs": [
    {
     "name": "stdout",
     "output_type": "stream",
     "text": [
      "48/48 [==============================] - 2s 31ms/step\n"
     ]
    }
   ],
   "source": [
    "prediction = model.predict(testdataset)\n"
   ]
  },
  {
   "cell_type": "code",
   "execution_count": 9,
   "metadata": {},
   "outputs": [
    {
     "name": "stdout",
     "output_type": "stream",
     "text": [
      "Does not contain label with logo\n",
      "Probably True 1\n",
      "False positive 2\n",
      "Probably True 3\n",
      "Probably True 4\n",
      "Probably True 5\n",
      "False positive 6\n",
      "False positive 7\n",
      "False positive 8\n",
      "Probably True 9\n",
      "Probably True 10\n",
      "Probably True 11\n",
      "Probably True 12\n",
      "False positive 13\n",
      "Probably True 14\n",
      "Probably True 15\n",
      "False positive 16\n",
      "Probably True 17\n",
      "False positive 18\n",
      "False positive 19\n",
      "Probably True 20\n",
      "Probably True 21\n",
      "Contain label with logo\n",
      "True 22\n",
      "True 23\n",
      "False positive 24\n",
      "True 25\n",
      "True 26\n",
      "True 27\n",
      "True 28\n",
      "True 29\n",
      "True 30\n",
      "False positive 31\n",
      "False positive 32\n",
      "False positive 33\n",
      "True 34\n",
      "True 35\n",
      "True 36\n",
      "False positive 37\n",
      "True 38\n",
      "False positive 39\n",
      "True 40\n",
      "False positive 41\n",
      "False positive 42\n",
      "True 43\n",
      "False positive 44\n",
      "True 45\n",
      "False positive 46\n",
      "True 47\n",
      "False positive 48\n"
     ]
    }
   ],
   "source": [
    "print(\"Does not contain label with logo\")\n",
    "for i in range(0, 21):\n",
    "    if prediction[i] >= 0.50:\n",
    "        print('False positive',i+1)\n",
    "    else:\n",
    "        print('Probably True',i+1)\n",
    "    # image = prediction[i]\n",
    "    # plt.imshow(image)\n",
    "print(\"Contain label with logo\")\n",
    "for i in range(21,48):\n",
    "    if prediction[i] >= 0.50:\n",
    "        print('True',i+1)\n",
    "    else:\n",
    "        print('False positive',i+1)"
   ]
  },
  {
   "cell_type": "code",
   "execution_count": null,
   "metadata": {},
   "outputs": [],
   "source": []
  }
 ],
 "metadata": {
  "kernelspec": {
   "display_name": "Python 3.9.13 ('main')",
   "language": "python",
   "name": "python3"
  },
  "language_info": {
   "codemirror_mode": {
    "name": "ipython",
    "version": 3
   },
   "file_extension": ".py",
   "mimetype": "text/x-python",
   "name": "python",
   "nbconvert_exporter": "python",
   "pygments_lexer": "ipython3",
   "version": "3.9.13"
  },
  "orig_nbformat": 4,
  "vscode": {
   "interpreter": {
    "hash": "8d235df3e2877666cb0ab7849186857eead025ac4b7f545df778329a702a1516"
   }
  }
 },
 "nbformat": 4,
 "nbformat_minor": 2
}
